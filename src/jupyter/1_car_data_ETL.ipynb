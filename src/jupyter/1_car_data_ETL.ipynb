{
 "cells": [
  {
   "cell_type": "code",
   "execution_count": 1,
   "id": "923fcf31-fdb9-43a1-8e30-7b0037220e61",
   "metadata": {},
   "outputs": [],
   "source": [
    "from pyspark.sql import SparkSession\n",
    "import pyspark.sql.functions as F\n",
    "import pyspark.sql.types as T\n",
    "from datetime import date\n",
    "import matplotlib.pyplot as plt\n",
    "import seaborn as sns\n",
    "\n",
    "%matplotlib inline"
   ]
  },
  {
   "cell_type": "code",
   "execution_count": 2,
   "id": "7b397a9e-006d-4714-801c-e9d2bedc52f9",
   "metadata": {},
   "outputs": [],
   "source": [
    "# This notebook uses Spark to load an perform data transformations and combines interesting sections from these notebooks : \n",
    "#\n",
    "# https://www.kaggle.com/mohaiminul101/car-price-prediction\n",
    "# https://www.kaggle.com/aishu2218/do-you-wanna-predict-price-of-car-you-wanna-buy\n",
    "# https://www.kaggle.com/udit1907/linear-advanced-regression-guided-car-purchase\n",
    "#  \n",
    "# These notebooks use 'Pandas' and 'scikit-learn'. This notebook here uses Spark to do the ETL and \n",
    "# then converts the Spark dataframe to a 'Pandas' dataframe (at the last minute) to do the visualization.\n",
    "# Note that we are using regular 'Pandas' and not the newly available 'pyspark.pandas' in this notebook.\n"
   ]
  },
  {
   "cell_type": "markdown",
   "id": "335b08a0-6afa-4e48-87a0-c6c34a39989b",
   "metadata": {},
   "source": [
    "# Start Spark Session"
   ]
  },
  {
   "cell_type": "code",
   "execution_count": 3,
   "id": "3eeac0e3-2cc2-4714-b986-8536a153c988",
   "metadata": {},
   "outputs": [],
   "source": [
    "# The simulated cluster environment is configured with : \n",
    "#   - 3 workers\n",
    "#   - With 3GB of memory for each worker (Total memory is 9GB)\n",
    "#   - Each worker has 2 cores (total cores is 6)\n",
    "\n",
    "# Start up Spark session. Let's be greedy and ask for all available resources (We'll be explicit).\n",
    "\n",
    "# Request : \n",
    "#   - A maximum of 6 cores with \n",
    "#   - 2 cores per executor\n",
    "#   - 3 GB of memory per executor\n",
    "\n",
    "# We also want to tell Spark about a specific java .jar file which contains a user defined function \n",
    "# we want to use later."
   ]
  },
  {
   "cell_type": "code",
   "execution_count": 4,
   "id": "aaab92e4-714a-4533-ba94-3a77690177af",
   "metadata": {},
   "outputs": [
    {
     "name": "stderr",
     "output_type": "stream",
     "text": [
      "22/04/01 14:33:23 WARN NativeCodeLoader: Unable to load native-hadoop library for your platform... using builtin-java classes where applicable\n",
      "Using Spark's default log4j profile: org/apache/spark/log4j-defaults.properties\n",
      "Setting default log level to \"WARN\".\n",
      "To adjust logging level use sc.setLogLevel(newLevel). For SparkR, use setLogLevel(newLevel).\n"
     ]
    }
   ],
   "source": [
    "spark = SparkSession\\\n",
    "            .builder\\\n",
    "            .master(\"spark://spark-master:7077\")\\\n",
    "            .appName(\"1_car_data_ETL_jupyter\")\\\n",
    "            .config(\"spark.executor.cores\", \"2\")\\\n",
    "            .config(\"spark.cores.max\", \"6\")\\\n",
    "            .config(\"spark.executor.memory\", \"3G\")\\\n",
    "            .config(\"spark.driver.memory\", \"2G\")\\\n",
    "            .config('spark.jars', '/src/java/spark-jobs/helloworld/target/jv_helloworld-1.0-SNAPSHOT.jar')\\\n",
    "            .config('spark.executor.extraClassPath', '/src/java/spark-jobs/helloworld/target/jv_helloworld-1.0-SNAPSHOT.jar')\\\n",
    "            .getOrCreate()\n"
   ]
  },
  {
   "cell_type": "code",
   "execution_count": 5,
   "id": "f9162f04-322b-491e-a441-91788c032ceb",
   "metadata": {},
   "outputs": [],
   "source": [
    "# Add jar to java spark context. It has a UDF that I want to use later.\n",
    "\n",
    "spark._jsc.addJar(\"/src/java/spark-jobs/helloworld/target/jv_helloworld-1.0-SNAPSHOT.jar\")\n"
   ]
  },
  {
   "cell_type": "code",
   "execution_count": 6,
   "id": "60ca9c2a-0a35-4902-a9fb-583b49f02706",
   "metadata": {},
   "outputs": [],
   "source": [
    "# Register the java function. It will be available as StringLengthUDF (in the spark.sql command).\n",
    "\n",
    "spark.udf.registerJavaFunction(\"StringLengthUDF\", \"ca.nrc.udf.StringLengthUDF\", T.LongType())\n"
   ]
  },
  {
   "cell_type": "code",
   "execution_count": 7,
   "id": "fee376ed-bc5e-4058-bd21-3d863fd332ad",
   "metadata": {},
   "outputs": [],
   "source": [
    "# Tell Spark to use Apache Arrow\n",
    "\n",
    "spark.conf.set(\"spark.sql.execution.arrow.pyspark.enabled\", \"true\")"
   ]
  },
  {
   "cell_type": "markdown",
   "id": "13b648c8-2782-4a52-a146-47cb0903ce17",
   "metadata": {},
   "source": [
    "# About the Data ... \n",
    "The **car_data.csv** file contains information about used cars. We'll use this data for the purposes of vehicle price prediction.\n",
    "\n",
    "### Columns and Descriptions\n",
    "* **Car_Name** :      The name of the car.\n",
    "* **Year** :          The year in which the car was bought.\n",
    "* **Selling_Price** : The price the owner wants to sell the car at.\n",
    "* **Present_Price** : The current ex-showroom price of the car.\n",
    "* **Kms_Driven** :    The distance completed by the car in km.\n",
    "* **Fuel_Type** :     Fuel type of the car.\n",
    "* **Seller_Type** :   Whether the seller is a dealer or an individual.\n",
    "* **Transmission** :   Whether the car is manual or automatic.\n",
    "* **Owner** :          The number of owners the car has previously had."
   ]
  },
  {
   "cell_type": "markdown",
   "id": "cd36056f-7fcb-4ce5-aeae-8dfbeff3c312",
   "metadata": {},
   "source": [
    "# Read Raw Car Sales Data"
   ]
  },
  {
   "cell_type": "code",
   "execution_count": 8,
   "id": "2ef24b61-d79b-4a99-9a54-ddce43bf447b",
   "metadata": {},
   "outputs": [],
   "source": [
    "# Read in the data. We don't ask Spark to determine the column data types. \n",
    "# This can add time to the job. We can give it a schema in the read command \n",
    "# or we can cast these once loaded. \n",
    "\n",
    "# Here, we'll cast the columns to the appropriate types once loaded.\n"
   ]
  },
  {
   "cell_type": "code",
   "execution_count": 9,
   "id": "453d9661-e9e8-4b01-9453-b33029f837c2",
   "metadata": {},
   "outputs": [
    {
     "name": "stderr",
     "output_type": "stream",
     "text": [
      "                                                                                \r"
     ]
    }
   ],
   "source": [
    "# Reference : https://spark.apache.org/docs/latest/sql-data-sources-csv.html\n",
    "\n",
    "car_df = spark\\\n",
    "    .read\\\n",
    "    .option(\"header\", True)\\\n",
    "    .option(\"delimiter\", \",\")\\\n",
    "    .option(\"inferSchema\", False)\\\n",
    "    .csv(\"/data/car_data.csv\")\n"
   ]
  },
  {
   "cell_type": "code",
   "execution_count": 10,
   "id": "b6a1bc0b-823a-4a0d-bf28-ddcdbc9beb0f",
   "metadata": {},
   "outputs": [
    {
     "name": "stdout",
     "output_type": "stream",
     "text": [
      "Rows: 301, Columns: 9\n"
     ]
    }
   ],
   "source": [
    "# Get number of rows and columns in the dataframe\n",
    "\n",
    "print('Rows: {}, Columns: {}'.format(car_df.count(), len(car_df.columns)))\n"
   ]
  },
  {
   "cell_type": "code",
   "execution_count": 11,
   "id": "43765b96-9e67-4437-83c1-085b8861a4fe",
   "metadata": {},
   "outputs": [
    {
     "name": "stdout",
     "output_type": "stream",
     "text": [
      "root\n",
      " |-- Car_Name: string (nullable = true)\n",
      " |-- Year: string (nullable = true)\n",
      " |-- Selling_Price: string (nullable = true)\n",
      " |-- Present_Price: string (nullable = true)\n",
      " |-- Kms_Driven: string (nullable = true)\n",
      " |-- Fuel_Type: string (nullable = true)\n",
      " |-- Seller_Type: string (nullable = true)\n",
      " |-- Transmission: string (nullable = true)\n",
      " |-- Owner: string (nullable = true)\n",
      "\n"
     ]
    }
   ],
   "source": [
    "# Print the dataframe schema.\n",
    "\n",
    "car_df.printSchema()\n"
   ]
  },
  {
   "cell_type": "code",
   "execution_count": 12,
   "id": "8eef9759-acb8-4239-b6ff-a61f6dedd4db",
   "metadata": {},
   "outputs": [
    {
     "name": "stderr",
     "output_type": "stream",
     "text": [
      "[Stage 4:>                                                          (0 + 1) / 1]\r"
     ]
    },
    {
     "name": "stdout",
     "output_type": "stream",
     "text": [
      "+--------+----+-------------+-------------+----------+---------+-----------+------------+-----+\n",
      "|Car_Name|Year|Selling_Price|Present_Price|Kms_Driven|Fuel_Type|Seller_Type|Transmission|Owner|\n",
      "+--------+----+-------------+-------------+----------+---------+-----------+------------+-----+\n",
      "|ritz    |2014|3.35         |5.59         |27000     |Petrol   |Dealer     |Manual      |0    |\n",
      "|sx4     |2013|4.75         |9.54         |43000     |Diesel   |Dealer     |Manual      |0    |\n",
      "|ciaz    |2017|7.25         |9.85         |6900      |Petrol   |Dealer     |Manual      |0    |\n",
      "|wagon r |2011|2.85         |4.15         |5200      |Petrol   |Dealer     |Manual      |0    |\n",
      "|swift   |2014|4.6          |6.87         |42450     |Diesel   |Dealer     |Manual      |0    |\n",
      "+--------+----+-------------+-------------+----------+---------+-----------+------------+-----+\n",
      "only showing top 5 rows\n",
      "\n"
     ]
    },
    {
     "name": "stderr",
     "output_type": "stream",
     "text": [
      "                                                                                \r"
     ]
    }
   ],
   "source": [
    "# Show a few sample records. \n",
    "\n",
    "# Note that Prices are in lakh units. \n",
    "# https://en.wikipedia.org/wiki/Lakh ... \n",
    "\n",
    "# A lakh, in Indian numbering system, is equal to one hundred thousand. \n",
    "# For example, in India 150,000 rupees becomes 1.5 lakh rupees.\n",
    "\n",
    "car_df.show(5, False)\n"
   ]
  },
  {
   "cell_type": "markdown",
   "id": "3a63ce6b-2a2d-4e1f-a44a-a1b1c3c97703",
   "metadata": {},
   "source": [
    "# Partitioning"
   ]
  },
  {
   "cell_type": "code",
   "execution_count": 13,
   "id": "6577a714-4c85-4de7-8c0e-fee1c46a43ed",
   "metadata": {},
   "outputs": [],
   "source": [
    "# Partitions are basic units of parallelism in Apache Spark. "
   ]
  },
  {
   "cell_type": "code",
   "execution_count": 14,
   "id": "3ea30059-e0ca-45f6-b408-d2f2b595c13d",
   "metadata": {},
   "outputs": [],
   "source": [
    "# With too few partitions, the application won’t utilize all the cores available in the cluster."
   ]
  },
  {
   "cell_type": "code",
   "execution_count": 15,
   "id": "b85a84de-b444-4a5f-9699-1183ac820c08",
   "metadata": {},
   "outputs": [],
   "source": [
    "# In Spark, by default, a partition is created for every HDFS partition of size 64MB. \n",
    "# RDDs are automatically partitioned in spark without human intervention. \n",
    "# However, we can change the partitioning scheme if we want. Note that there is a cost to shuffling data."
   ]
  },
  {
   "cell_type": "markdown",
   "id": "7b0f527f-7a9d-480e-86e6-1a1caebef7e3",
   "metadata": {},
   "source": [
    "![partitions](media/partitioning.png)"
   ]
  },
  {
   "cell_type": "code",
   "execution_count": 16,
   "id": "3225d919-1535-4fb0-95ca-b1b78cb48bd4",
   "metadata": {},
   "outputs": [
    {
     "name": "stdout",
     "output_type": "stream",
     "text": [
      "Number of partitions for car_df dataframe. Before repartition : 1\n"
     ]
    },
    {
     "name": "stderr",
     "output_type": "stream",
     "text": [
      "[Stage 7:>                                                          (0 + 1) / 1]\r"
     ]
    },
    {
     "name": "stdout",
     "output_type": "stream",
     "text": [
      "+-----------+-----+\n",
      "|partitionId|count|\n",
      "+-----------+-----+\n",
      "|          0|  301|\n",
      "+-----------+-----+\n",
      "\n"
     ]
    },
    {
     "name": "stderr",
     "output_type": "stream",
     "text": [
      "                                                                                \r"
     ]
    }
   ],
   "source": [
    "# What is the current partitioning scheme ? \n",
    "\n",
    "print('Number of partitions for car_df dataframe. Before repartition : {}'.format(car_df.rdd.getNumPartitions()))\n",
    "\n",
    "\n",
    "# Show the number of records per partition before the shuffle. \n",
    "\n",
    "car_df\\\n",
    "    .withColumn(\"partitionId\", F.spark_partition_id())\\\n",
    "    .groupBy(\"partitionId\")\\\n",
    "    .count()\\\n",
    "    .orderBy(F.asc(\"count\"))\\\n",
    "    .show()\n"
   ]
  },
  {
   "cell_type": "code",
   "execution_count": 17,
   "id": "0c4b1123-f4bf-4854-84c6-c9ee635ba23f",
   "metadata": {},
   "outputs": [
    {
     "name": "stdout",
     "output_type": "stream",
     "text": [
      "Number of partitions for car_df dataframe. After repartition : 6\n"
     ]
    },
    {
     "name": "stderr",
     "output_type": "stream",
     "text": [
      "[Stage 11:>                                                         (0 + 2) / 6]\r"
     ]
    },
    {
     "name": "stdout",
     "output_type": "stream",
     "text": [
      "+-----------+-----+\n",
      "|partitionId|count|\n",
      "+-----------+-----+\n",
      "|          0|   50|\n",
      "|          1|   51|\n",
      "|          2|   50|\n",
      "|          3|   50|\n",
      "|          4|   50|\n",
      "|          5|   50|\n",
      "+-----------+-----+\n",
      "\n"
     ]
    },
    {
     "name": "stderr",
     "output_type": "stream",
     "text": [
      "                                                                                \r"
     ]
    }
   ],
   "source": [
    "# Repartition data. Shuffle data to where we have as many partitions as the number of available core\n",
    "# (e.g. 6 in this case because our cluster is configured with 6 cores).\n",
    "\n",
    "car_df = car_df.repartition(6) \n",
    "\n",
    "\n",
    "# Show the number of records per partition after the shuffle.\n",
    "\n",
    "print('Number of partitions for car_df dataframe. After repartition : {}'.format(car_df.rdd.getNumPartitions()))\n",
    "\n",
    "car_df\\\n",
    "    .withColumn(\"partitionId\", F.spark_partition_id())\\\n",
    "    .groupBy(\"partitionId\")\\\n",
    "    .count()\\\n",
    "    .orderBy(F.asc(\"partitionId\"))\\\n",
    "    .show()\n"
   ]
  },
  {
   "cell_type": "markdown",
   "id": "2e0227bb-8826-45eb-940d-28ebb8259efe",
   "metadata": {},
   "source": [
    "# DataFrames API - Selection, Aggregation, Filtering"
   ]
  },
  {
   "cell_type": "code",
   "execution_count": 18,
   "id": "b748e7fb-6135-4da1-960c-1b8668b30809",
   "metadata": {},
   "outputs": [
    {
     "name": "stdout",
     "output_type": "stream",
     "text": [
      "+---------+------------------+\n",
      "|Fuel_Type|number_of_vehicles|\n",
      "+---------+------------------+\n",
      "|   Petrol|               239|\n",
      "|   Diesel|                60|\n",
      "|      CNG|                 2|\n",
      "+---------+------------------+\n",
      "\n"
     ]
    }
   ],
   "source": [
    "# We can do any number of transformations using the DataFrames API.\n",
    "# This is to give you an idea of what interacting with dataframes looks like.\n",
    "\n",
    "# What kind of fuels the vehicles run on (Selection, Aggregation) ?\n",
    "\n",
    "fuels_df = car_df\\\n",
    "    .select('Fuel_Type')\\\n",
    "    .groupBy('Fuel_Type')\\\n",
    "    .agg(F.count(\"Fuel_Type\").alias('number_of_vehicles'))\\\n",
    "    .orderBy(F.col('number_of_vehicles').desc())\n",
    "\n",
    "fuels_df.show()\n"
   ]
  },
  {
   "cell_type": "code",
   "execution_count": 19,
   "id": "89e7b60e-f74f-4a42-a634-a7f766534131",
   "metadata": {},
   "outputs": [
    {
     "name": "stdout",
     "output_type": "stream",
     "text": [
      "+---------+------------------+\n",
      "|Fuel_Type|number_of_vehicles|\n",
      "+---------+------------------+\n",
      "|   Petrol|               239|\n",
      "|   Diesel|                60|\n",
      "|      CNG|                 2|\n",
      "+---------+------------------+\n",
      "\n"
     ]
    }
   ],
   "source": [
    "# We can do the same with a temporary table and a SQL query:\n",
    "\n",
    "# Register the car_df DataFrame as a SQL temporary view\n",
    "car_df.createOrReplaceTempView(\"CAR_TABLE\")\n",
    "\n",
    "\n",
    "# What kind of fuels the vehicles run on (Selection, Aggregation) ?\n",
    "\n",
    "# Create the fuels_df DataFrame using Standard SQL query\n",
    "fuels_df = spark.sql('''\n",
    "    SELECT\n",
    "        Fuel_Type,\n",
    "        COUNT(1) AS number_of_vehicles\n",
    "    FROM \n",
    "        CAR_TABLE\n",
    "    GROUP BY\n",
    "        Fuel_Type\n",
    "    ORDER BY\n",
    "        number_of_vehicles\n",
    "    DESC\n",
    "''')\n",
    "\n",
    "fuels_df.show()\n"
   ]
  },
  {
   "cell_type": "code",
   "execution_count": 20,
   "id": "b3010040-cf48-4d2c-b8c9-3c13c16fb0a8",
   "metadata": {},
   "outputs": [
    {
     "name": "stdout",
     "output_type": "stream",
     "text": [
      "+------------+----+-------------+-------------+----------+---------+-----------+------------+-----+\n",
      "|    Car_Name|Year|Selling_Price|Present_Price|Kms_Driven|Fuel_Type|Seller_Type|Transmission|Owner|\n",
      "+------------+----+-------------+-------------+----------+---------+-----------+------------+-----+\n",
      "|    fortuner|2017|           33|        36.23|      6000|   Diesel|     Dealer|   Automatic|    0|\n",
      "|land cruiser|2010|           35|         92.6|     78000|   Diesel|     Dealer|      Manual|    0|\n",
      "+------------+----+-------------+-------------+----------+---------+-----------+------------+-----+\n",
      "\n"
     ]
    }
   ],
   "source": [
    "# Filtering example :\n",
    "\n",
    "# Cars selling for over 30 lakh rupees. \n",
    "\n",
    "car_df\\\n",
    "    .filter(F.col('Selling_Price').cast(T.DoubleType()) >= '30.0')\\\n",
    "    .show()\n",
    "\n",
    "# Note that we have to cast the Selling_Price as a double. It's still a string at this point.\n",
    "# We will fix this permanently in the next section.\n"
   ]
  },
  {
   "cell_type": "code",
   "execution_count": 21,
   "id": "a34370e1-fb28-46d8-9ef0-b9636d83b23e",
   "metadata": {},
   "outputs": [],
   "source": [
    "# The point of the section above is : \n",
    "\n",
    "# Pandas is a very popular data analysis and manipulation tool.\n",
    "\n",
    "# What you can do with Pandas transformations, you can do with Spark. \n",
    "# I would argue the PySpark APIs are easier to read and work with than the Pandas APIs.\n",
    "\n",
    "\n",
    "# !! HOWEVER !! \n",
    "\n",
    "# If you still want to use a Pandas API but benefit from Spark's distributed architecture, \n",
    "# check out (Pandas API on Spark - used to be Koalas). This is new in Sparkk 3.2.\n",
    "\n",
    "# https://databricks.com/blog/2021/10/04/pandas-api-on-upcoming-apache-spark-3-2.html"
   ]
  },
  {
   "cell_type": "code",
   "execution_count": 22,
   "id": "3b83fcc6-42dd-4858-a41a-1a9b9d120609",
   "metadata": {},
   "outputs": [],
   "source": [
    "# More transformation examples can be found in the common_ops jupyter notebook included in the current GitHub project directory."
   ]
  },
  {
   "cell_type": "markdown",
   "id": "4bae2635-1b68-4ac9-ba98-63a3dc79eabe",
   "metadata": {},
   "source": [
    "# Data Transformations for Downstream MLlib Example"
   ]
  },
  {
   "cell_type": "code",
   "execution_count": 23,
   "id": "0c04506a-6591-44fc-b03f-6a2fb4bb3e09",
   "metadata": {},
   "outputs": [],
   "source": [
    "# Assign proper types to certain column elements.\n",
    "\n",
    "car_df = car_df\\\n",
    "    .withColumn('Year', car_df.Year.cast(T.IntegerType()))\\\n",
    "    .withColumn('Kms_Driven', car_df.Kms_Driven.cast(T.IntegerType()))\\\n",
    "    .withColumn('Owner', car_df.Owner.cast(T.IntegerType()))\\\n",
    "    .withColumn('Selling_Price', car_df.Selling_Price.cast(T.DoubleType()))\\\n",
    "    .withColumn('Present_Price', car_df.Present_Price.cast(T.DoubleType()))\n"
   ]
  },
  {
   "cell_type": "code",
   "execution_count": 24,
   "id": "047da777-ece7-4a1e-949c-31d1575a44ab",
   "metadata": {},
   "outputs": [
    {
     "name": "stdout",
     "output_type": "stream",
     "text": [
      "root\n",
      " |-- Car_Name: string (nullable = true)\n",
      " |-- Year: integer (nullable = true)\n",
      " |-- Selling_Price: double (nullable = true)\n",
      " |-- Present_Price: double (nullable = true)\n",
      " |-- Kms_Driven: integer (nullable = true)\n",
      " |-- Fuel_Type: string (nullable = true)\n",
      " |-- Seller_Type: string (nullable = true)\n",
      " |-- Transmission: string (nullable = true)\n",
      " |-- Owner: integer (nullable = true)\n",
      "\n"
     ]
    }
   ],
   "source": [
    "# Check the schema to see the changes\n",
    "\n",
    "car_df.printSchema()\n"
   ]
  },
  {
   "cell_type": "code",
   "execution_count": 25,
   "id": "58f896c9-cd94-407c-aff8-bbce8ffdc2b3",
   "metadata": {},
   "outputs": [
    {
     "name": "stdout",
     "output_type": "stream",
     "text": [
      "+--------+----+-------------+-------------+----------+---------+-----------+------------+-----+\n",
      "|Car_Name|Year|Selling_Price|Present_Price|Kms_Driven|Fuel_Type|Seller_Type|Transmission|Owner|\n",
      "+--------+----+-------------+-------------+----------+---------+-----------+------------+-----+\n",
      "|       0|   0|            0|            0|         0|        0|          0|           0|    0|\n",
      "+--------+----+-------------+-------------+----------+---------+-----------+------------+-----+\n",
      "\n"
     ]
    }
   ],
   "source": [
    "# Check to make sure that we have data in every column of every row.\n",
    "# The query below counts all instances of null or nan in each colum of the car_df dataframe.\n",
    "\n",
    "car_df.select(\n",
    "    [F.count(F.when(F.isnan(c) | F.col(c).isNull(), c)).alias(c) for c in car_df.columns]\n",
    ").show()\n"
   ]
  },
  {
   "cell_type": "code",
   "execution_count": 26,
   "id": "3e01aaa3-ec68-4002-8c60-89ce5462c2d1",
   "metadata": {},
   "outputs": [
    {
     "name": "stderr",
     "output_type": "stream",
     "text": [
      "[Stage 42:>                                                         (0 + 1) / 1]\r"
     ]
    },
    {
     "name": "stdout",
     "output_type": "stream",
     "text": [
      "+------------------------+----+-------------+-------------+----------+---------+-----------+------------+-----+-------+\n",
      "|Car_Name                |Year|Selling_Price|Present_Price|Kms_Driven|Fuel_Type|Seller_Type|Transmission|Owner|Car_Age|\n",
      "+------------------------+----+-------------+-------------+----------+---------+-----------+------------+-----+-------+\n",
      "|sx4                     |2008|1.95         |7.15         |58000     |Petrol   |Dealer     |Manual      |0    |14     |\n",
      "|ciaz                    |2016|8.75         |8.89         |20273     |Diesel   |Dealer     |Manual      |0    |6      |\n",
      "|i10                     |2011|2.55         |4.43         |57000     |Petrol   |Dealer     |Manual      |0    |11     |\n",
      "|brio                    |2012|3.0          |5.35         |53675     |Petrol   |Dealer     |Manual      |0    |10     |\n",
      "|Bajaj Avenger Street 220|2011|0.45         |0.95         |24000     |Petrol   |Individual |Manual      |0    |11     |\n",
      "+------------------------+----+-------------+-------------+----------+---------+-----------+------------+-----+-------+\n",
      "only showing top 5 rows\n",
      "\n"
     ]
    },
    {
     "name": "stderr",
     "output_type": "stream",
     "text": [
      "                                                                                \r"
     ]
    }
   ],
   "source": [
    "# Write and call a User Defined Function (UDF) written in Python \n",
    "\n",
    "\n",
    "# Write a function to calculate the age of a vehicle given year\n",
    "def get_age(i_year):\n",
    "    current_year = date.today().year\n",
    "\n",
    "    if current_year < i_year:\n",
    "        raise Exception('Problem with years')\n",
    "\n",
    "    return current_year - i_year\n",
    "\n",
    "\n",
    "# Create a user defined function (i.e. a user-programmable routine that act on one row).\n",
    "\n",
    "calc_age_udf = F.udf(lambda year: get_age(year), T.IntegerType())\n",
    "\n",
    "\n",
    "# Add an 'Car_Age' column to the car_df dataframe\n",
    "\n",
    "car_df = car_df\\\n",
    "    .withColumn('Car_Age', calc_age_udf(F.col('Year')))\n",
    "\n",
    "# We should see a 'Car_Age' column in at the end of our dataframe now.\n",
    "\n",
    "car_df.show(5, False)\n"
   ]
  },
  {
   "cell_type": "code",
   "execution_count": 27,
   "id": "2c3b4f62-4d12-43ff-8a2d-f14d4164554e",
   "metadata": {},
   "outputs": [
    {
     "name": "stderr",
     "output_type": "stream",
     "text": [
      "[Stage 45:>                                                         (0 + 1) / 1]\r"
     ]
    },
    {
     "name": "stdout",
     "output_type": "stream",
     "text": [
      "+--------------------+----+-------------+-------------+----------+---------+-----------+------------+-----+-------+---------------+\n",
      "|            Car_Name|Year|Selling_Price|Present_Price|Kms_Driven|Fuel_Type|Seller_Type|Transmission|Owner|Car_Age|car_name_length|\n",
      "+--------------------+----+-------------+-------------+----------+---------+-----------+------------+-----+-------+---------------+\n",
      "|                 sx4|2008|         1.95|         7.15|     58000|   Petrol|     Dealer|      Manual|    0|     14|              3|\n",
      "|                ciaz|2016|         8.75|         8.89|     20273|   Diesel|     Dealer|      Manual|    0|      6|              4|\n",
      "|                 i10|2011|         2.55|         4.43|     57000|   Petrol|     Dealer|      Manual|    0|     11|              3|\n",
      "|                brio|2012|          3.0|         5.35|     53675|   Petrol|     Dealer|      Manual|    0|     10|              4|\n",
      "|Bajaj Avenger Str...|2011|         0.45|         0.95|     24000|   Petrol| Individual|      Manual|    0|     11|             24|\n",
      "+--------------------+----+-------------+-------------+----------+---------+-----------+------------+-----+-------+---------------+\n",
      "only showing top 5 rows\n",
      "\n"
     ]
    },
    {
     "name": "stderr",
     "output_type": "stream",
     "text": [
      "                                                                                \r"
     ]
    }
   ],
   "source": [
    "# Call a UDF written in Java\n",
    "\n",
    "# Add the first name length field (fname_length) by calling a Java function. \n",
    "# This function lives in the jar we added to Spark earlier.\n",
    "car_df = car_df\\\n",
    "    .withColumn(\"car_name_length\", F.expr(\"StringLengthUDF(Car_Name)\"))\n",
    "\n",
    "car_df.show(5, True)\n"
   ]
  },
  {
   "cell_type": "code",
   "execution_count": 28,
   "id": "a19a060a-401a-4aca-9b00-ed6531fd44ae",
   "metadata": {},
   "outputs": [
    {
     "name": "stdout",
     "output_type": "stream",
     "text": [
      "+-------------------------+-------------+------------------+\n",
      "|Car_Name                 |Selling_Price|Inflated_Price    |\n",
      "+-------------------------+-------------+------------------+\n",
      "|Royal Enfield Classic 350|1.1          |1.4300000000000002|\n",
      "|ciaz                     |7.45         |9.685             |\n",
      "|Yamaha FZ S V 2.0        |0.55         |0.7150000000000001|\n",
      "|Bajaj Pulsar RS200       |1.05         |1.3650000000000002|\n",
      "|innova                   |18.0         |23.400000000000002|\n",
      "+-------------------------+-------------+------------------+\n",
      "only showing top 5 rows\n",
      "\n"
     ]
    }
   ],
   "source": [
    "# One last simple tranformation example :\n",
    "\n",
    "# Add calculated column. Create 'inflated_price' column, which is the ('Selling_Price' + 30 percent) :\n",
    "\n",
    "car_df = car_df\\\n",
    "    .withColumn('inflated_price', F.col('Selling_Price')*F.lit(1.30))\n",
    "\n",
    "car_df\\\n",
    "    .select('Car_Name', 'Selling_Price', 'Inflated_Price')\\\n",
    "    .show(5, False)\n"
   ]
  },
  {
   "cell_type": "code",
   "execution_count": 29,
   "id": "fd4f124e-8ddd-4515-a038-d9ab635abdee",
   "metadata": {},
   "outputs": [
    {
     "name": "stderr",
     "output_type": "stream",
     "text": [
      "[Stage 51:>                                                         (0 + 1) / 1]\r"
     ]
    },
    {
     "name": "stdout",
     "output_type": "stream",
     "text": [
      "+------------------------+----+-------------+-------------+----------+---------+-----------+------------+-----+-------+\n",
      "|Car_Name                |Year|Selling_Price|Present_Price|Kms_Driven|Fuel_Type|Seller_Type|Transmission|Owner|Car_Age|\n",
      "+------------------------+----+-------------+-------------+----------+---------+-----------+------------+-----+-------+\n",
      "|sx4                     |2008|1.95         |7.15         |58000     |Petrol   |Dealer     |Manual      |0    |14     |\n",
      "|ciaz                    |2016|8.75         |8.89         |20273     |Diesel   |Dealer     |Manual      |0    |6      |\n",
      "|i10                     |2011|2.55         |4.43         |57000     |Petrol   |Dealer     |Manual      |0    |11     |\n",
      "|brio                    |2012|3.0          |5.35         |53675     |Petrol   |Dealer     |Manual      |0    |10     |\n",
      "|Bajaj Avenger Street 220|2011|0.45         |0.95         |24000     |Petrol   |Individual |Manual      |0    |11     |\n",
      "+------------------------+----+-------------+-------------+----------+---------+-----------+------------+-----+-------+\n",
      "only showing top 5 rows\n",
      "\n"
     ]
    },
    {
     "name": "stderr",
     "output_type": "stream",
     "text": [
      "                                                                                \r"
     ]
    }
   ],
   "source": [
    "# Drop a column we don't need .. in this case, the 'Inflated_Price' and 'car_name_length' columns we just added.\n",
    "\n",
    "car_df = car_df\\\n",
    "    .drop('Inflated_Price')\\\n",
    "    .drop('car_name_length')\n",
    "\n",
    "car_df.show(5, False)\n"
   ]
  },
  {
   "cell_type": "markdown",
   "id": "17eca127-0010-448a-aa24-03b8fd7c285f",
   "metadata": {},
   "source": [
    "# Data Exploration"
   ]
  },
  {
   "cell_type": "code",
   "execution_count": 30,
   "id": "bade8470-4388-4897-9ae3-acfe2b5cff8c",
   "metadata": {},
   "outputs": [
    {
     "name": "stderr",
     "output_type": "stream",
     "text": [
      "[Stage 54:===================>                                      (2 + 2) / 6]\r"
     ]
    },
    {
     "name": "stdout",
     "output_type": "stream",
     "text": [
      "+-------+-----------------+-----------------+-----------------+-----------------+\n",
      "|summary|    Selling_Price|    Present_Price|       Kms_Driven|          Car_Age|\n",
      "+-------+-----------------+-----------------+-----------------+-----------------+\n",
      "|  count|              301|              301|              301|              301|\n",
      "|   mean|4.661295681063123|7.628471760797341|36947.20598006644|8.372093023255815|\n",
      "| stddev|5.082811556177803|8.644115402015787|38886.88388206788|2.891554127336687|\n",
      "|    min|              0.1|             0.32|              500|                4|\n",
      "|    25%|              0.9|              1.2|            15000|                6|\n",
      "|    50%|              3.6|              6.4|            32000|                8|\n",
      "|    75%|              6.0|              9.9|            48767|               10|\n",
      "|    max|             35.0|             92.6|           500000|               19|\n",
      "+-------+-----------------+-----------------+-----------------+-----------------+\n",
      "\n"
     ]
    },
    {
     "name": "stderr",
     "output_type": "stream",
     "text": [
      "                                                                                \r"
     ]
    }
   ],
   "source": [
    "# Compute summary statistics for numeric columns.\n",
    "\n",
    "car_df\\\n",
    "    .select('Selling_Price', 'Present_Price', 'Kms_Driven', 'Car_Age')\\\n",
    "    .summary()\\\n",
    "    .show()\n"
   ]
  },
  {
   "cell_type": "code",
   "execution_count": 31,
   "id": "deaac0a0-3c32-4853-8b91-f985a61178b0",
   "metadata": {},
   "outputs": [
    {
     "name": "stderr",
     "output_type": "stream",
     "text": [
      "                                                                                \r"
     ]
    }
   ],
   "source": [
    "# Convert the Spark dataframe to a native Pandas dataframe (for visualizations). \n",
    "# Note that we are NOT using the NEW Pandas API on Spark, which allows \n",
    "# you to scale your Pandas workload out. It's just straight Pandas.\n",
    "\n",
    "car_pdf = car_df.toPandas()\n"
   ]
  },
  {
   "cell_type": "code",
   "execution_count": 32,
   "id": "09eb24a6-c601-4e0f-a762-8a5a2c9e55f7",
   "metadata": {},
   "outputs": [
    {
     "name": "stdout",
     "output_type": "stream",
     "text": [
      "CPU times: user 24.1 ms, sys: 4.91 ms, total: 29 ms\n",
      "Wall time: 68 ms\n",
      "\n",
      "\n",
      "CPU times: user 49.1 ms, sys: 2.1 ms, total: 51.2 ms\n",
      "Wall time: 105 ms\n"
     ]
    }
   ],
   "source": [
    "# A SIDE NOTE ... APACHE ARROW\n",
    "\n",
    "# If using Apacke Arrow, creating a Spark dataframe from a pandas dataframe is much quicker.\n",
    "%time df = spark.createDataFrame(car_pdf)\n",
    "print()\n",
    "print()\n",
    "# If using NOT using Apacke Arrow, creating a Spark dataframe from a pandas dataframe is much slower.\n",
    "spark.conf.set(\"spark.sql.execution.arrow.pyspark.enabled\", \"false\")\n",
    "%time df = spark.createDataFrame(car_pdf)\n",
    "\n",
    "# Reset to use Apache Arrow\n",
    "spark.conf.set(\"spark.sql.execution.arrow.pyspark.enabled\", \"true\")"
   ]
  },
  {
   "cell_type": "code",
   "execution_count": 33,
   "id": "9791c0c7-fe0d-4201-ad7a-7e572898d7cc",
   "metadata": {},
   "outputs": [
    {
     "data": {
      "image/png": "[encoded data removed]",
      "text/plain": [
       "<Figure size 864x504 with 4 Axes>"
      ]
     },
     "metadata": {
      "needs_background": "light"
     },
     "output_type": "display_data"
    }
   ],
   "source": [
    "# Create boxplots for numerical data.\n",
    "\n",
    "fig, ((ax1, ax2), (ax3, ax4)) = plt.subplots(2, 2, figsize=(12, 7))\n",
    "fig.suptitle('Numerical Data Box Plots')\n",
    "\n",
    "ax1 = sns.boxplot(x='Selling_Price', data=car_pdf, ax=ax1)\n",
    "ax2 = sns.boxplot(x='Kms_Driven', data=car_pdf, ax=ax2)\n",
    "ax3 = sns.boxplot(x='Present_Price', data=car_pdf, ax=ax3)\n",
    "ax4 = sns.boxplot(x='Car_Age', data=car_pdf, ax=ax4)\n"
   ]
  },
  {
   "cell_type": "code",
   "execution_count": 34,
   "id": "926e8293-9176-40a2-9c8b-4278c6d6098e",
   "metadata": {},
   "outputs": [
    {
     "data": {
      "image/png": "[encoded data removed]",
      "text/plain": [
       "<Figure size 864x792 with 4 Axes>"
      ]
     },
     "metadata": {
      "needs_background": "light"
     },
     "output_type": "display_data"
    }
   ],
   "source": [
    "# Create bar charts for categorical data.\n",
    "\n",
    "fig, ((ax1, ax2), (ax3, ax4)) = plt.subplots(2, 2, figsize=(12, 11))\n",
    "fig.suptitle('Counts by Categories')\n",
    "\n",
    "ax1 = sns.countplot(x='Seller_Type', data=car_pdf, ax=ax1).set_title('Sale Count by Seller Type')\n",
    "ax2 = sns.countplot(x='Fuel_Type', data=car_pdf, ax=ax2).set_title('Sale Count by Fuel Type')\n",
    "ax3 = sns.countplot(x='Transmission', data=car_pdf, ax=ax3).set_title('Sale Count by Transmission')\n",
    "ax4 = sns.countplot(x='Owner', data=car_pdf, ax=ax4).set_title('Sale Count by Previous Owner Count')\n"
   ]
  },
  {
   "cell_type": "code",
   "execution_count": 35,
   "id": "9a8d4109-ae58-4315-8e74-8c74afe5bbc8",
   "metadata": {},
   "outputs": [
    {
     "data": {
      "image/png": "[encoded data removed]",
      "text/plain": [
       "<Figure size 432x288 with 2 Axes>"
      ]
     },
     "metadata": {
      "needs_background": "light"
     },
     "output_type": "display_data"
    }
   ],
   "source": [
    "# Create correlation heatmap.\n",
    "\n",
    "sns.heatmap(car_pdf.corr(), annot=True, cmap=\"RdBu\")\n",
    "plt.show()\n"
   ]
  },
  {
   "cell_type": "code",
   "execution_count": 36,
   "id": "8c4242e3-3139-4b8e-a5fb-0f5c1188b2e5",
   "metadata": {},
   "outputs": [
    {
     "data": {
      "text/plain": [
       "<seaborn.axisgrid.FacetGrid at 0x7f2076fae3d0>"
      ]
     },
     "execution_count": 36,
     "metadata": {},
     "output_type": "execute_result"
    },
    {
     "data": {
      "text/plain": [
       "<Figure size 720x720 with 0 Axes>"
      ]
     },
     "metadata": {},
     "output_type": "display_data"
    },
    {
     "data": {
      "image/png": "[encoded data removed]",
      "text/plain": [
       "<Figure size 360x360 with 1 Axes>"
      ]
     },
     "metadata": {
      "needs_background": "light"
     },
     "output_type": "display_data"
    }
   ],
   "source": [
    "# Plot selling_price relative to present_price.\n",
    "\n",
    "plt.figure(figsize=(10,10))\n",
    "sns.lmplot(x='Present_Price',y='Selling_Price',data=car_pdf)\n"
   ]
  },
  {
   "cell_type": "markdown",
   "id": "06150352-c772-4db9-8fd3-8471853360ac",
   "metadata": {},
   "source": [
    "# Save the Spark Dataframe as a Parquet File for Downstream Use"
   ]
  },
  {
   "cell_type": "code",
   "execution_count": 37,
   "id": "afde1492-451d-4e6d-b9b6-4f20652c2150",
   "metadata": {},
   "outputs": [
    {
     "name": "stdout",
     "output_type": "stream",
     "text": [
      "root\n",
      " |-- Car_Name: string (nullable = true)\n",
      " |-- Year: integer (nullable = true)\n",
      " |-- Selling_Price: double (nullable = true)\n",
      " |-- Present_Price: double (nullable = true)\n",
      " |-- Kms_Driven: integer (nullable = true)\n",
      " |-- Fuel_Type: string (nullable = true)\n",
      " |-- Seller_Type: string (nullable = true)\n",
      " |-- Transmission: string (nullable = true)\n",
      " |-- Owner: integer (nullable = true)\n",
      " |-- Car_Age: integer (nullable = true)\n",
      "\n"
     ]
    }
   ],
   "source": [
    "# Show the schema of the dataframe we are saving\n",
    "\n",
    "car_df.printSchema()\n"
   ]
  },
  {
   "cell_type": "code",
   "execution_count": 38,
   "id": "6e7c36e4-ae87-4500-80b6-7b441574ac42",
   "metadata": {},
   "outputs": [
    {
     "name": "stderr",
     "output_type": "stream",
     "text": [
      "                                                                                \r"
     ]
    }
   ],
   "source": [
    "car_df.write.mode(\"overwrite\").parquet(\"/data/car_data.parquet\")"
   ]
  },
  {
   "cell_type": "code",
   "execution_count": 39,
   "id": "41bce8f0-d859-4c7f-afee-dfd8a4f66b91",
   "metadata": {},
   "outputs": [
    {
     "name": "stdout",
     "output_type": "stream",
     "text": [
      "Current Linux User : (Should be ds...)\n",
      "ds\n",
      "\n",
      "\n",
      "List parquet file parts :\n",
      "_SUCCESS\n",
      "part-00000-b2eb307e-3e1a-4c52-b970-b7007c97c821-c000.snappy.parquet\n",
      "part-00001-b2eb307e-3e1a-4c52-b970-b7007c97c821-c000.snappy.parquet\n",
      "part-00002-b2eb307e-3e1a-4c52-b970-b7007c97c821-c000.snappy.parquet\n",
      "part-00003-b2eb307e-3e1a-4c52-b970-b7007c97c821-c000.snappy.parquet\n",
      "part-00004-b2eb307e-3e1a-4c52-b970-b7007c97c821-c000.snappy.parquet\n",
      "part-00005-b2eb307e-3e1a-4c52-b970-b7007c97c821-c000.snappy.parquet\n"
     ]
    }
   ],
   "source": [
    "%%bash\n",
    "\n",
    "echo 'Current Linux User : (Should be ds...)'\n",
    "whoami\n",
    "\n",
    "echo ''\n",
    "echo ''\n",
    "\n",
    "\n",
    "# We can see the parquet file (6 partitions) was saved in the '/data' directory : \n",
    "\n",
    "echo 'List parquet file parts :'\n",
    "\n",
    "ls /data/car_data.parquet\n"
   ]
  },
  {
   "cell_type": "code",
   "execution_count": 40,
   "id": "b9068b58-9195-48ef-9808-d13c5a061a31",
   "metadata": {},
   "outputs": [],
   "source": [
    "spark.stop()"
   ]
  },
  {
   "cell_type": "code",
   "execution_count": null,
   "id": "0a23c975-6b28-45b5-8035-31b4cad08c70",
   "metadata": {},
   "outputs": [],
   "source": []
  }
 ],
 "metadata": {
  "kernelspec": {
   "display_name": "Python 3 (ipykernel)",
   "language": "python",
   "name": "python3"
  },
  "language_info": {
   "codemirror_mode": {
    "name": "ipython",
    "version": 3
   },
   "file_extension": ".py",
   "mimetype": "text/x-python",
   "name": "python",
   "nbconvert_exporter": "python",
   "pygments_lexer": "ipython3",
   "version": "3.9.7"
  }
 },
 "nbformat": 4,
 "nbformat_minor": 5
}
