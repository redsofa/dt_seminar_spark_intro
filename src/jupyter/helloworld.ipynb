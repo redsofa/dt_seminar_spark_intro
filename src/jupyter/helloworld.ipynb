{
 "cells": [
  {
   "cell_type": "code",
   "execution_count": 1,
   "id": "923fcf31-fdb9-43a1-8e30-7b0037220e61",
   "metadata": {},
   "outputs": [],
   "source": [
    "# PySpark API refernce : https://spark.apache.org/docs/latest/api/python/reference/\n",
    "\n",
    "from pyspark.sql import SparkSession\n",
    "from pyspark.sql.functions import col"
   ]
  },
  {
   "cell_type": "code",
   "execution_count": 2,
   "id": "aaab92e4-714a-4533-ba94-3a77690177af",
   "metadata": {},
   "outputs": [
    {
     "name": "stderr",
     "output_type": "stream",
     "text": [
      "Using Spark's default log4j profile: org/apache/spark/log4j-defaults.properties\n",
      "Setting default log level to \"WARN\".\n",
      "To adjust logging level use sc.setLogLevel(newLevel). For SparkR, use setLogLevel(newLevel).\n",
      "22/04/01 14:31:02 WARN NativeCodeLoader: Unable to load native-hadoop library for your platform... using builtin-java classes where applicable\n"
     ]
    }
   ],
   "source": [
    "# Start spark session. \n",
    "\n",
    "spark = SparkSession\\\n",
    "            .builder\\\n",
    "            .master(\"spark://spark-master:7077\")\\\n",
    "            .appName(\"helloworld-jupyter\")\\\n",
    "            .config(\"spark.executor.memory\", \"2G\")\\\n",
    "            .config(\"spark.driver.memory\", \"2G\")\\\n",
    "            .config(\"spark.executor.cores\", \"2\")\\\n",
    "            .config(\"spark.cores.max\", \"2\")\\\n",
    "            .getOrCreate()\n"
   ]
  },
  {
   "cell_type": "code",
   "execution_count": 3,
   "id": "453d9661-e9e8-4b01-9453-b33029f837c2",
   "metadata": {},
   "outputs": [
    {
     "name": "stderr",
     "output_type": "stream",
     "text": [
      "                                                                                \r"
     ]
    }
   ],
   "source": [
    "# Read in the input data.\n",
    "\n",
    "iris_df = spark\\\n",
    "    .read\\\n",
    "    .option(\"header\", True)\\\n",
    "    .csv(\"/data/iris.csv\")\n"
   ]
  },
  {
   "cell_type": "code",
   "execution_count": 4,
   "id": "f3083a56-a6d2-4bc2-93e7-273bd96433e3",
   "metadata": {},
   "outputs": [
    {
     "name": "stdout",
     "output_type": "stream",
     "text": [
      "root\n",
      " |-- sepal_length: string (nullable = true)\n",
      " |-- sepal_width: string (nullable = true)\n",
      " |-- petal_length: string (nullable = true)\n",
      " |-- petal_width: string (nullable = true)\n",
      " |-- variety: string (nullable = true)\n",
      "\n",
      "+------------+-----------+------------+-----------+-----------+\n",
      "|sepal_length|sepal_width|petal_length|petal_width|variety    |\n",
      "+------------+-----------+------------+-----------+-----------+\n",
      "|5.1         |3.5        |1.4         |0.2        |Iris-setosa|\n",
      "|4.9         |3.0        |1.4         |0.2        |Iris-setosa|\n",
      "|4.7         |3.2        |1.3         |0.2        |Iris-setosa|\n",
      "|4.6         |3.1        |1.5         |0.2        |Iris-setosa|\n",
      "|5.0         |3.6        |1.4         |0.2        |Iris-setosa|\n",
      "|5.4         |3.9        |1.7         |0.4        |Iris-setosa|\n",
      "|4.6         |3.4        |1.4         |0.3        |Iris-setosa|\n",
      "|5.0         |3.4        |1.5         |0.2        |Iris-setosa|\n",
      "|4.4         |2.9        |1.4         |0.2        |Iris-setosa|\n",
      "|4.9         |3.1        |1.5         |0.1        |Iris-setosa|\n",
      "+------------+-----------+------------+-----------+-----------+\n",
      "only showing top 10 rows\n",
      "\n"
     ]
    }
   ],
   "source": [
    "# Show the data's schema and a sample\n",
    "\n",
    "iris_df.printSchema()\n",
    "iris_df.show(10, False)\n"
   ]
  },
  {
   "cell_type": "code",
   "execution_count": 5,
   "id": "9b183059-2c18-4d75-918f-cfdcdd39d3cf",
   "metadata": {},
   "outputs": [
    {
     "name": "stderr",
     "output_type": "stream",
     "text": [
      "[Stage 2:>                                                          (0 + 1) / 1]\r"
     ]
    },
    {
     "name": "stdout",
     "output_type": "stream",
     "text": [
      "+---------------+-----+\n",
      "|        variety|count|\n",
      "+---------------+-----+\n",
      "| Iris-virginica|   50|\n",
      "|    Iris-setosa|   50|\n",
      "|Iris-versicolor|   50|\n",
      "+---------------+-----+\n",
      "\n"
     ]
    },
    {
     "name": "stderr",
     "output_type": "stream",
     "text": [
      "                                                                                \r"
     ]
    }
   ],
   "source": [
    "# Show count of varieties\n",
    "\n",
    "variety_count_df = iris_df\\\n",
    "    .select(col(\"variety\"))\\\n",
    "    .groupBy(col(\"variety\"))\\\n",
    "    .count()\n",
    "\n",
    "variety_count_df.show()\n"
   ]
  },
  {
   "cell_type": "code",
   "execution_count": 6,
   "id": "b9068b58-9195-48ef-9808-d13c5a061a31",
   "metadata": {},
   "outputs": [],
   "source": [
    "# Close Spark session\n",
    "\n",
    "spark.stop()"
   ]
  },
  {
   "cell_type": "code",
   "execution_count": null,
   "id": "f722336a-5385-4e2d-b376-c2b06abb5f60",
   "metadata": {},
   "outputs": [],
   "source": []
  }
 ],
 "metadata": {
  "kernelspec": {
   "display_name": "Python 3 (ipykernel)",
   "language": "python",
   "name": "python3"
  },
  "language_info": {
   "codemirror_mode": {
    "name": "ipython",
    "version": 3
   },
   "file_extension": ".py",
   "mimetype": "text/x-python",
   "name": "python",
   "nbconvert_exporter": "python",
   "pygments_lexer": "ipython3",
   "version": "3.9.7"
  }
 },
 "nbformat": 4,
 "nbformat_minor": 5
}
